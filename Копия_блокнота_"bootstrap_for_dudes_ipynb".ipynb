{
  "nbformat": 4,
  "nbformat_minor": 0,
  "metadata": {
    "colab": {
      "provenance": [],
      "include_colab_link": true
    },
    "kernelspec": {
      "name": "python3",
      "display_name": "Python 3"
    },
    "language_info": {
      "name": "python"
    }
  },
  "cells": [
    {
      "cell_type": "markdown",
      "metadata": {
        "id": "view-in-github",
        "colab_type": "text"
      },
      "source": [
        "<a href=\"https://colab.research.google.com/github/Irina0703/SpecialistPython1/blob/master/%D0%9A%D0%BE%D0%BF%D0%B8%D1%8F_%D0%B1%D0%BB%D0%BE%D0%BA%D0%BD%D0%BE%D1%82%D0%B0_%22bootstrap_for_dudes_ipynb%22.ipynb\" target=\"_parent\"><img src=\"https://colab.research.google.com/assets/colab-badge.svg\" alt=\"Open In Colab\"/></a>"
      ]
    },
    {
      "cell_type": "code",
      "execution_count": null,
      "metadata": {
        "id": "ljxvm8BeWy0B"
      },
      "outputs": [],
      "source": [
        "import numpy as np\n",
        "import pandas as pd\n",
        "import seaborn as sns"
      ]
    },
    {
      "cell_type": "code",
      "source": [
        "!pip install arch"
      ],
      "metadata": {
        "colab": {
          "base_uri": "https://localhost:8080/"
        },
        "id": "8AlzGsIscLLQ",
        "outputId": "54cad998-4e53-4094-e33b-736877dd56f3"
      },
      "execution_count": null,
      "outputs": [
        {
          "output_type": "stream",
          "name": "stdout",
          "text": [
            "Collecting arch\n",
            "  Downloading arch-6.2.0-cp310-cp310-manylinux_2_17_x86_64.manylinux2014_x86_64.whl (981 kB)\n",
            "\u001b[2K     \u001b[90m━━━━━━━━━━━━━━━━━━━━━━━━━━━━━━━━━━━━━━━━\u001b[0m \u001b[32m981.7/981.7 kB\u001b[0m \u001b[31m12.0 MB/s\u001b[0m eta \u001b[36m0:00:00\u001b[0m\n",
            "\u001b[?25hRequirement already satisfied: numpy>=1.19 in /usr/local/lib/python3.10/dist-packages (from arch) (1.23.5)\n",
            "Requirement already satisfied: scipy>=1.5 in /usr/local/lib/python3.10/dist-packages (from arch) (1.11.3)\n",
            "Requirement already satisfied: pandas>=1.1 in /usr/local/lib/python3.10/dist-packages (from arch) (1.5.3)\n",
            "Requirement already satisfied: statsmodels>=0.12 in /usr/local/lib/python3.10/dist-packages (from arch) (0.14.0)\n",
            "Requirement already satisfied: python-dateutil>=2.8.1 in /usr/local/lib/python3.10/dist-packages (from pandas>=1.1->arch) (2.8.2)\n",
            "Requirement already satisfied: pytz>=2020.1 in /usr/local/lib/python3.10/dist-packages (from pandas>=1.1->arch) (2023.3.post1)\n",
            "Requirement already satisfied: patsy>=0.5.2 in /usr/local/lib/python3.10/dist-packages (from statsmodels>=0.12->arch) (0.5.3)\n",
            "Requirement already satisfied: packaging>=21.3 in /usr/local/lib/python3.10/dist-packages (from statsmodels>=0.12->arch) (23.2)\n",
            "Requirement already satisfied: six in /usr/local/lib/python3.10/dist-packages (from patsy>=0.5.2->statsmodels>=0.12->arch) (1.16.0)\n",
            "Installing collected packages: arch\n",
            "Successfully installed arch-6.2.0\n"
          ]
        }
      ]
    },
    {
      "cell_type": "code",
      "source": [
        "from arch.bootstrap import IIDBootstrap, IndependentSamplesBootstrap"
      ],
      "metadata": {
        "id": "n8cyu1dIcaUW"
      },
      "execution_count": null,
      "outputs": []
    },
    {
      "cell_type": "code",
      "source": [
        "rng = np.random.default_rng(111111)\n",
        "x = rng.normal(loc=5, scale=4, size=20)"
      ],
      "metadata": {
        "id": "ivhOggneckvk"
      },
      "execution_count": null,
      "outputs": []
    },
    {
      "cell_type": "code",
      "source": [
        "x"
      ],
      "metadata": {
        "colab": {
          "base_uri": "https://localhost:8080/"
        },
        "id": "GEuKF45FdCCk",
        "outputId": "be4e4fdc-b9dc-4b84-c60f-e90b6ff6434f"
      },
      "execution_count": null,
      "outputs": [
        {
          "output_type": "execute_result",
          "data": {
            "text/plain": [
              "array([ 8.75056101,  2.04660955,  5.82436808,  2.81933431,  3.55431834,\n",
              "        4.36497893, 10.94214485,  6.52441297,  8.72714931,  8.57755903,\n",
              "        4.47753664,  8.80829036,  5.072406  ,  3.54047913,  5.48872283,\n",
              "        7.6829816 ,  2.43211183, -3.41245328,  8.78998033, -1.76474929])"
            ]
          },
          "metadata": {},
          "execution_count": 6
        }
      ]
    },
    {
      "cell_type": "code",
      "source": [],
      "metadata": {
        "id": "PC3HZ7vwdC3B"
      },
      "execution_count": null,
      "outputs": []
    },
    {
      "cell_type": "markdown",
      "source": [
        "$E(X_i) = 5$, $Var(X_i) = 4^2$, $X_i$ независимы."
      ],
      "metadata": {
        "id": "Gb4HBEyIdJPl"
      }
    },
    {
      "cell_type": "code",
      "source": [
        "np.mean(x)"
      ],
      "metadata": {
        "colab": {
          "base_uri": "https://localhost:8080/"
        },
        "id": "kpxtY-PLdQff",
        "outputId": "42e26168-32e4-4bb5-82d9-e006ad902828"
      },
      "execution_count": null,
      "outputs": [
        {
          "output_type": "execute_result",
          "data": {
            "text/plain": [
              "5.162337126364272"
            ]
          },
          "metadata": {},
          "execution_count": 9
        }
      ]
    },
    {
      "cell_type": "code",
      "source": [],
      "metadata": {
        "id": "XP0mdxwbdS6J"
      },
      "execution_count": null,
      "outputs": []
    },
    {
      "cell_type": "markdown",
      "source": [
        "Поиграем в настоящего исследователя, сделаем вид, что мы не знаем $E(X_i)$. Мы можем получить точечную оценку для математического ожидания. Естественная формула, $\\bar x = \\frac{x_1 +\\ldots + x_n}{n}$."
      ],
      "metadata": {
        "id": "4XGUDZK3deDg"
      }
    },
    {
      "cell_type": "code",
      "source": [
        "mu_hat = np.mean(x)\n",
        "mu_hat"
      ],
      "metadata": {
        "colab": {
          "base_uri": "https://localhost:8080/"
        },
        "id": "we_hIaIgdkBb",
        "outputId": "13a8bdc2-9bc4-4cc3-dc65-f42ffef82406"
      },
      "execution_count": null,
      "outputs": [
        {
          "output_type": "execute_result",
          "data": {
            "text/plain": [
              "5.162337126364272"
            ]
          },
          "metadata": {},
          "execution_count": 10
        }
      ]
    },
    {
      "cell_type": "markdown",
      "source": [
        "Как построить доверительный интервал для неизвестного $\\mu = E(X_i)$?\n",
        "Хочу точечную оценку превратить в интервальную. Достаточно «размножить» точечную оценку.\n",
        "\n",
        "Выход: из наших $n=20$ наблюдений случайно выберем $20$ с возможностью повтора."
      ],
      "metadata": {
        "id": "FtyCqfKVd_a6"
      }
    },
    {
      "cell_type": "code",
      "source": [
        "x_star1 = rng.choice(x, size=len(x))"
      ],
      "metadata": {
        "id": "mjBXTgleduHH"
      },
      "execution_count": null,
      "outputs": []
    },
    {
      "cell_type": "code",
      "source": [
        "x_star1"
      ],
      "metadata": {
        "colab": {
          "base_uri": "https://localhost:8080/"
        },
        "id": "zFMnoMQZgLLc",
        "outputId": "f8904434-8513-4c11-cb1a-3bbd93d98b43"
      },
      "execution_count": null,
      "outputs": [
        {
          "output_type": "execute_result",
          "data": {
            "text/plain": [
              "array([ 5.072406  ,  7.6829816 ,  7.6829816 , 10.94214485,  3.55431834,\n",
              "        3.55431834,  8.57755903,  3.54047913,  5.82436808,  4.36497893,\n",
              "        8.75056101,  8.80829036,  8.57755903, -3.41245328,  4.47753664,\n",
              "        6.52441297,  8.75056101,  2.04660955,  5.82436808,  7.6829816 ])"
            ]
          },
          "metadata": {},
          "execution_count": 13
        }
      ]
    },
    {
      "cell_type": "code",
      "source": [
        "np.mean(x_star1)"
      ],
      "metadata": {
        "colab": {
          "base_uri": "https://localhost:8080/"
        },
        "id": "MB1-lWCNgMO-",
        "outputId": "c8ec9b0b-50bd-459b-b96c-c673e086d2bc"
      },
      "execution_count": null,
      "outputs": [
        {
          "output_type": "execute_result",
          "data": {
            "text/plain": [
              "5.941348143400953"
            ]
          },
          "metadata": {},
          "execution_count": 14
        }
      ]
    },
    {
      "cell_type": "code",
      "source": [
        "x_star2 = rng.choice(x, size=len(x))\n",
        "np.mean(x_star2)"
      ],
      "metadata": {
        "colab": {
          "base_uri": "https://localhost:8080/"
        },
        "id": "6gKcWz2Ygf5-",
        "outputId": "c6b0cd51-4f9c-4902-9b33-ca98da81f0cd"
      },
      "execution_count": null,
      "outputs": [
        {
          "output_type": "execute_result",
          "data": {
            "text/plain": [
              "5.382909324145878"
            ]
          },
          "metadata": {},
          "execution_count": 16
        }
      ]
    },
    {
      "cell_type": "code",
      "source": [
        "x_star2"
      ],
      "metadata": {
        "colab": {
          "base_uri": "https://localhost:8080/"
        },
        "id": "G5A6xybEgodJ",
        "outputId": "45797b83-c3c6-4d16-e7b4-93fae65fec5e"
      },
      "execution_count": null,
      "outputs": [
        {
          "output_type": "execute_result",
          "data": {
            "text/plain": [
              "array([ 3.55431834,  7.6829816 ,  5.82436808,  3.54047913,  4.36497893,\n",
              "       10.94214485,  6.52441297,  3.55431834,  8.75056101,  7.6829816 ,\n",
              "        5.072406  ,  7.6829816 ,  5.82436808,  4.47753664, -1.76474929,\n",
              "        7.6829816 ,  2.43211183,  2.81933431,  8.57755903,  2.43211183])"
            ]
          },
          "metadata": {},
          "execution_count": 17
        }
      ]
    },
    {
      "cell_type": "code",
      "source": [
        "n_boot = 1000\n",
        "mu_hat_star = [np.mean(rng.choice(x, size=len(x))) for i in range(n_boot)]"
      ],
      "metadata": {
        "id": "SYXXdmwygtXM"
      },
      "execution_count": null,
      "outputs": []
    },
    {
      "cell_type": "code",
      "source": [
        "mu_hat_star[1:10]"
      ],
      "metadata": {
        "colab": {
          "base_uri": "https://localhost:8080/"
        },
        "id": "rKDdly7wg8O6",
        "outputId": "c6750a69-d1b8-42d3-9a84-fad9a43e45ac"
      },
      "execution_count": null,
      "outputs": [
        {
          "output_type": "execute_result",
          "data": {
            "text/plain": [
              "[6.713233840263672,\n",
              " 5.617551215067908,\n",
              " 5.35446519920025,\n",
              " 5.481905847543931,\n",
              " 6.692005176307161,\n",
              " 4.99720648239316,\n",
              " 5.301918245945239,\n",
              " 5.211700883514384,\n",
              " 5.676470991935876]"
            ]
          },
          "metadata": {},
          "execution_count": 19
        }
      ]
    },
    {
      "cell_type": "code",
      "source": [],
      "metadata": {
        "id": "-PEOinXEg_mT"
      },
      "execution_count": null,
      "outputs": []
    }
  ]
}