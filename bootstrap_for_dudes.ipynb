{
  "nbformat": 4,
  "nbformat_minor": 0,
  "metadata": {
    "colab": {
      "provenance": [],
      "include_colab_link": true
    },
    "kernelspec": {
      "name": "python3",
      "display_name": "Python 3"
    },
    "language_info": {
      "name": "python"
    }
  },
  "cells": [
    {
      "cell_type": "markdown",
      "metadata": {
        "id": "view-in-github",
        "colab_type": "text"
      },
      "source": [
        "<a href=\"https://colab.research.google.com/github/Irina0703/SpecialistPython1/blob/master/bootstrap_for_dudes.ipynb\" target=\"_parent\"><img src=\"https://colab.research.google.com/assets/colab-badge.svg\" alt=\"Open In Colab\"/></a>"
      ]
    },
    {
      "cell_type": "code",
      "execution_count": null,
      "metadata": {
        "id": "ljxvm8BeWy0B"
      },
      "outputs": [],
      "source": [
        "import numpy as np\n",
        "import pandas as pd\n",
        "import seaborn as sns"
      ]
    },
    {
      "cell_type": "code",
      "source": [
        "!pip install arch"
      ],
      "metadata": {
        "colab": {
          "base_uri": "https://localhost:8080/"
        },
        "id": "8AlzGsIscLLQ",
        "outputId": "54cad998-4e53-4094-e33b-736877dd56f3"
      },
      "execution_count": null,
      "outputs": [
        {
          "output_type": "stream",
          "name": "stdout",
          "text": [
            "Collecting arch\n",
            "  Downloading arch-6.2.0-cp310-cp310-manylinux_2_17_x86_64.manylinux2014_x86_64.whl (981 kB)\n",
            "\u001b[2K     \u001b[90m━━━━━━━━━━━━━━━━━━━━━━━━━━━━━━━━━━━━━━━━\u001b[0m \u001b[32m981.7/981.7 kB\u001b[0m \u001b[31m12.0 MB/s\u001b[0m eta \u001b[36m0:00:00\u001b[0m\n",
            "\u001b[?25hRequirement already satisfied: numpy>=1.19 in /usr/local/lib/python3.10/dist-packages (from arch) (1.23.5)\n",
            "Requirement already satisfied: scipy>=1.5 in /usr/local/lib/python3.10/dist-packages (from arch) (1.11.3)\n",
            "Requirement already satisfied: pandas>=1.1 in /usr/local/lib/python3.10/dist-packages (from arch) (1.5.3)\n",
            "Requirement already satisfied: statsmodels>=0.12 in /usr/local/lib/python3.10/dist-packages (from arch) (0.14.0)\n",
            "Requirement already satisfied: python-dateutil>=2.8.1 in /usr/local/lib/python3.10/dist-packages (from pandas>=1.1->arch) (2.8.2)\n",
            "Requirement already satisfied: pytz>=2020.1 in /usr/local/lib/python3.10/dist-packages (from pandas>=1.1->arch) (2023.3.post1)\n",
            "Requirement already satisfied: patsy>=0.5.2 in /usr/local/lib/python3.10/dist-packages (from statsmodels>=0.12->arch) (0.5.3)\n",
            "Requirement already satisfied: packaging>=21.3 in /usr/local/lib/python3.10/dist-packages (from statsmodels>=0.12->arch) (23.2)\n",
            "Requirement already satisfied: six in /usr/local/lib/python3.10/dist-packages (from patsy>=0.5.2->statsmodels>=0.12->arch) (1.16.0)\n",
            "Installing collected packages: arch\n",
            "Successfully installed arch-6.2.0\n"
          ]
        }
      ]
    },
    {
      "cell_type": "code",
      "source": [
        "from arch.bootstrap import IIDBootstrap, IndependentSamplesBootstrap"
      ],
      "metadata": {
        "id": "n8cyu1dIcaUW"
      },
      "execution_count": null,
      "outputs": []
    },
    {
      "cell_type": "code",
      "source": [
        "rng = np.random.default_rng(111111)\n",
        "x = rng.normal(loc=5, scale=4, size=20)"
      ],
      "metadata": {
        "id": "ivhOggneckvk"
      },
      "execution_count": null,
      "outputs": []
    },
    {
      "cell_type": "code",
      "source": [
        "x"
      ],
      "metadata": {
        "colab": {
          "base_uri": "https://localhost:8080/"
        },
        "id": "GEuKF45FdCCk",
        "outputId": "be4e4fdc-b9dc-4b84-c60f-e90b6ff6434f"
      },
      "execution_count": null,
      "outputs": [
        {
          "output_type": "execute_result",
          "data": {
            "text/plain": [
              "array([ 8.75056101,  2.04660955,  5.82436808,  2.81933431,  3.55431834,\n",
              "        4.36497893, 10.94214485,  6.52441297,  8.72714931,  8.57755903,\n",
              "        4.47753664,  8.80829036,  5.072406  ,  3.54047913,  5.48872283,\n",
              "        7.6829816 ,  2.43211183, -3.41245328,  8.78998033, -1.76474929])"
            ]
          },
          "metadata": {},
          "execution_count": 6
        }
      ]
    },
    {
      "cell_type": "code",
      "source": [],
      "metadata": {
        "id": "PC3HZ7vwdC3B"
      },
      "execution_count": null,
      "outputs": []
    },
    {
      "cell_type": "markdown",
      "source": [
        "$E(X_i) = 5$, $Var(X_i) = 4^2$, $X_i$ независимы."
      ],
      "metadata": {
        "id": "Gb4HBEyIdJPl"
      }
    },
    {
      "cell_type": "code",
      "source": [
        "np.mean(x)"
      ],
      "metadata": {
        "colab": {
          "base_uri": "https://localhost:8080/"
        },
        "id": "kpxtY-PLdQff",
        "outputId": "42e26168-32e4-4bb5-82d9-e006ad902828"
      },
      "execution_count": null,
      "outputs": [
        {
          "output_type": "execute_result",
          "data": {
            "text/plain": [
              "5.162337126364272"
            ]
          },
          "metadata": {},
          "execution_count": 9
        }
      ]
    },
    {
      "cell_type": "code",
      "source": [],
      "metadata": {
        "id": "XP0mdxwbdS6J"
      },
      "execution_count": null,
      "outputs": []
    },
    {
      "cell_type": "markdown",
      "source": [
        "Поиграем в настоящего исследователя, сделаем вид, что мы не знаем $E(X_i)$. Мы можем получить точечную оценку для математического ожидания. Естественная формула, $\\bar x = \\frac{x_1 +\\ldots + x_n}{n}$."
      ],
      "metadata": {
        "id": "4XGUDZK3deDg"
      }
    },
    {
      "cell_type": "code",
      "source": [
        "mu_hat = np.mean(x)\n",
        "mu_hat"
      ],
      "metadata": {
        "colab": {
          "base_uri": "https://localhost:8080/"
        },
        "id": "we_hIaIgdkBb",
        "outputId": "13a8bdc2-9bc4-4cc3-dc65-f42ffef82406"
      },
      "execution_count": null,
      "outputs": [
        {
          "output_type": "execute_result",
          "data": {
            "text/plain": [
              "5.162337126364272"
            ]
          },
          "metadata": {},
          "execution_count": 10
        }
      ]
    },
    {
      "cell_type": "markdown",
      "source": [
        "Как построить доверительный интервал для неизвестного $\\mu = E(X_i)$?\n",
        "Хочу точечную оценку превратить в интервальную. Достаточно «размножить» точечную оценку.\n",
        "\n",
        "Выход: из наших $n=20$ наблюдений случайно выберем $20$ с возможностью повтора."
      ],
      "metadata": {
        "id": "FtyCqfKVd_a6"
      }
    },
    {
      "cell_type": "code",
      "source": [
        "x_star1 = rng.choice(x, size=len(x))"
      ],
      "metadata": {
        "id": "mjBXTgleduHH"
      },
      "execution_count": null,
      "outputs": []
    },
    {
      "cell_type": "code",
      "source": [
        "x_star1"
      ],
      "metadata": {
        "colab": {
          "base_uri": "https://localhost:8080/"
        },
        "id": "zFMnoMQZgLLc",
        "outputId": "f8904434-8513-4c11-cb1a-3bbd93d98b43"
      },
      "execution_count": null,
      "outputs": [
        {
          "output_type": "execute_result",
          "data": {
            "text/plain": [
              "array([ 5.072406  ,  7.6829816 ,  7.6829816 , 10.94214485,  3.55431834,\n",
              "        3.55431834,  8.57755903,  3.54047913,  5.82436808,  4.36497893,\n",
              "        8.75056101,  8.80829036,  8.57755903, -3.41245328,  4.47753664,\n",
              "        6.52441297,  8.75056101,  2.04660955,  5.82436808,  7.6829816 ])"
            ]
          },
          "metadata": {},
          "execution_count": 13
        }
      ]
    },
    {
      "cell_type": "code",
      "source": [
        "np.mean(x_star1)"
      ],
      "metadata": {
        "colab": {
          "base_uri": "https://localhost:8080/"
        },
        "id": "MB1-lWCNgMO-",
        "outputId": "c8ec9b0b-50bd-459b-b96c-c673e086d2bc"
      },
      "execution_count": null,
      "outputs": [
        {
          "output_type": "execute_result",
          "data": {
            "text/plain": [
              "5.941348143400953"
            ]
          },
          "metadata": {},
          "execution_count": 14
        }
      ]
    },
    {
      "cell_type": "code",
      "source": [
        "x_star2 = rng.choice(x, size=len(x))\n",
        "np.mean(x_star2)"
      ],
      "metadata": {
        "colab": {
          "base_uri": "https://localhost:8080/"
        },
        "id": "6gKcWz2Ygf5-",
        "outputId": "c6b0cd51-4f9c-4902-9b33-ca98da81f0cd"
      },
      "execution_count": null,
      "outputs": [
        {
          "output_type": "execute_result",
          "data": {
            "text/plain": [
              "5.382909324145878"
            ]
          },
          "metadata": {},
          "execution_count": 16
        }
      ]
    },
    {
      "cell_type": "code",
      "source": [
        "x_star2"
      ],
      "metadata": {
        "colab": {
          "base_uri": "https://localhost:8080/"
        },
        "id": "G5A6xybEgodJ",
        "outputId": "45797b83-c3c6-4d16-e7b4-93fae65fec5e"
      },
      "execution_count": null,
      "outputs": [
        {
          "output_type": "execute_result",
          "data": {
            "text/plain": [
              "array([ 3.55431834,  7.6829816 ,  5.82436808,  3.54047913,  4.36497893,\n",
              "       10.94214485,  6.52441297,  3.55431834,  8.75056101,  7.6829816 ,\n",
              "        5.072406  ,  7.6829816 ,  5.82436808,  4.47753664, -1.76474929,\n",
              "        7.6829816 ,  2.43211183,  2.81933431,  8.57755903,  2.43211183])"
            ]
          },
          "metadata": {},
          "execution_count": 17
        }
      ]
    },
    {
      "cell_type": "code",
      "source": [
        "n_boot = 1000\n",
        "mu_hat_star = [np.mean(rng.choice(x, size=len(x))) for i in range(n_boot)]"
      ],
      "metadata": {
        "id": "SYXXdmwygtXM"
      },
      "execution_count": null,
      "outputs": []
    },
    {
      "cell_type": "code",
      "source": [
        "mu_hat_star[1:10]"
      ],
      "metadata": {
        "colab": {
          "base_uri": "https://localhost:8080/"
        },
        "id": "rKDdly7wg8O6",
        "outputId": "c6750a69-d1b8-42d3-9a84-fad9a43e45ac"
      },
      "execution_count": null,
      "outputs": [
        {
          "output_type": "execute_result",
          "data": {
            "text/plain": [
              "[6.713233840263672,\n",
              " 5.617551215067908,\n",
              " 5.35446519920025,\n",
              " 5.481905847543931,\n",
              " 6.692005176307161,\n",
              " 4.99720648239316,\n",
              " 5.301918245945239,\n",
              " 5.211700883514384,\n",
              " 5.676470991935876]"
            ]
          },
          "metadata": {},
          "execution_count": 19
        }
      ]
    },
    {
      "cell_type": "markdown",
      "source": [
        "Наивный бутстрэп доверительный интервал для $\\mu=E(X_i)$:"
      ],
      "metadata": {
        "id": "_mzMspolhNBq"
      }
    },
    {
      "cell_type": "code",
      "source": [
        "[np.quantile(mu_hat_star, 0.025), np.quantile(mu_hat_star, 0.975)]"
      ],
      "metadata": {
        "colab": {
          "base_uri": "https://localhost:8080/"
        },
        "id": "-PEOinXEg_mT",
        "outputId": "32a509f4-ec4d-41a1-a789-9000b5f460af"
      },
      "execution_count": null,
      "outputs": [
        {
          "output_type": "execute_result",
          "data": {
            "text/plain": [
              "[3.466441480784882, 6.62888113822821]"
            ]
          },
          "metadata": {},
          "execution_count": 20
        }
      ]
    },
    {
      "cell_type": "markdown",
      "source": [
        "Плюсы:\n",
        "1. Мы можем не знать формулы для дисперсии оценки.\n",
        "\n",
        "Мы не использовали $Var(\\hat\\mu)$.\n",
        "\n",
        "2. В большинстве случаев формулы верны при больших $n$.\n",
        "И бутстрэп тоже требует больших $n$.\n",
        "\n",
        "Часто оказывается, что большое $n$, нужное для «правильного» варианта бутстрэпа, гораздо меньше, чем большое $n$, нужное для центральной предельной теоремы."
      ],
      "metadata": {
        "id": "HtA1yc6Ahx21"
      }
    },
    {
      "cell_type": "code",
      "source": [
        "boot_x = IIDBootstrap(x, seed=111111)\n",
        "boot_x.conf_int(np.mean, method='basic', reps=10000, size=0.95)"
      ],
      "metadata": {
        "colab": {
          "base_uri": "https://localhost:8080/"
        },
        "id": "viej6DdihaMa",
        "outputId": "6e74d3f2-7673-461c-e452-682b25cc130d"
      },
      "execution_count": null,
      "outputs": [
        {
          "output_type": "execute_result",
          "data": {
            "text/plain": [
              "array([[3.67824331],\n",
              "       [6.76505453]])"
            ]
          },
          "metadata": {},
          "execution_count": 21
        }
      ]
    },
    {
      "cell_type": "code",
      "source": [
        "boot_x.conf_int(np.std, method='basic', reps=10000, size=0.95)"
      ],
      "metadata": {
        "id": "51Or1rm-n8MN",
        "outputId": "2223d4dc-6b4b-4f77-ed5d-ecee382f12d9",
        "colab": {
          "base_uri": "https://localhost:8080/"
        }
      },
      "execution_count": null,
      "outputs": [
        {
          "output_type": "execute_result",
          "data": {
            "text/plain": [
              "array([[2.63833899],\n",
              "       [4.8650567 ]])"
            ]
          },
          "metadata": {},
          "execution_count": 39
        }
      ]
    },
    {
      "cell_type": "markdown",
      "source": [
        "Tim Hestergerg, What teachers should know about bootstrap?"
      ],
      "metadata": {
        "id": "7D5dYU17jvOP"
      }
    },
    {
      "cell_type": "code",
      "source": [
        "w = x + rng.normal(loc=1, scale=3, size=len(x))"
      ],
      "metadata": {
        "id": "KUQjnfqAjEup"
      },
      "execution_count": null,
      "outputs": []
    },
    {
      "cell_type": "code",
      "source": [
        "np.corrcoef(x, w)"
      ],
      "metadata": {
        "colab": {
          "base_uri": "https://localhost:8080/"
        },
        "id": "6VOINc7flgAy",
        "outputId": "be866e35-502f-470c-f92a-c3a693af7723"
      },
      "execution_count": null,
      "outputs": [
        {
          "output_type": "execute_result",
          "data": {
            "text/plain": [
              "array([[1.        , 0.83265667],\n",
              "       [0.83265667, 1.        ]])"
            ]
          },
          "metadata": {},
          "execution_count": 23
        }
      ]
    },
    {
      "cell_type": "code",
      "source": [
        "def corr(x, y):\n",
        "  corr_mat = np.corrcoef(x, y)\n",
        "  return corr_mat[0, 1]"
      ],
      "metadata": {
        "id": "kajBOh2GlkLX"
      },
      "execution_count": null,
      "outputs": []
    },
    {
      "cell_type": "code",
      "source": [
        "corr(x, w)"
      ],
      "metadata": {
        "colab": {
          "base_uri": "https://localhost:8080/"
        },
        "id": "oDue_dILlxAe",
        "outputId": "d9f19f7e-b23e-4c03-b642-4ded52a18e1d"
      },
      "execution_count": null,
      "outputs": [
        {
          "output_type": "execute_result",
          "data": {
            "text/plain": [
              "0.8326566707478291"
            ]
          },
          "metadata": {},
          "execution_count": 25
        }
      ]
    },
    {
      "cell_type": "code",
      "source": [
        "x"
      ],
      "metadata": {
        "colab": {
          "base_uri": "https://localhost:8080/"
        },
        "id": "3S5hydVKlyzZ",
        "outputId": "fedfc8c5-cc0f-4571-d1d0-ad41caa5385a"
      },
      "execution_count": null,
      "outputs": [
        {
          "output_type": "execute_result",
          "data": {
            "text/plain": [
              "array([ 8.75056101,  2.04660955,  5.82436808,  2.81933431,  3.55431834,\n",
              "        4.36497893, 10.94214485,  6.52441297,  8.72714931,  8.57755903,\n",
              "        4.47753664,  8.80829036,  5.072406  ,  3.54047913,  5.48872283,\n",
              "        7.6829816 ,  2.43211183, -3.41245328,  8.78998033, -1.76474929])"
            ]
          },
          "metadata": {},
          "execution_count": 26
        }
      ]
    },
    {
      "cell_type": "code",
      "source": [
        "w"
      ],
      "metadata": {
        "colab": {
          "base_uri": "https://localhost:8080/"
        },
        "id": "dO8HcKmPl8WX",
        "outputId": "815498ce-6264-4869-cdcb-8519769230c8"
      },
      "execution_count": null,
      "outputs": [
        {
          "output_type": "execute_result",
          "data": {
            "text/plain": [
              "array([11.91168901,  2.56161307, -0.05905122,  5.75234653,  1.9965966 ,\n",
              "        4.89802143, 13.18925613,  5.94531856, 13.8390005 , 12.39287802,\n",
              "        2.98500801,  7.49480114,  2.89315956,  7.37127129,  6.71418125,\n",
              "        7.15422325,  5.34030994, -0.66562737, 11.09626948, -4.77853031])"
            ]
          },
          "metadata": {},
          "execution_count": 27
        }
      ]
    },
    {
      "cell_type": "code",
      "source": [
        "obs_id = rng.choice(range(len(x)), size=len(x))\n",
        "obs_id"
      ],
      "metadata": {
        "colab": {
          "base_uri": "https://localhost:8080/"
        },
        "id": "l1uUlNfrl9Ja",
        "outputId": "53f5e085-b994-410c-ac4a-bfca3f318e16"
      },
      "execution_count": null,
      "outputs": [
        {
          "output_type": "execute_result",
          "data": {
            "text/plain": [
              "array([14,  2, 12,  4,  9, 18, 16, 19,  4,  9,  6, 11, 10, 13, 12,  1,  9,\n",
              "        9,  2, 12])"
            ]
          },
          "metadata": {},
          "execution_count": 28
        }
      ]
    },
    {
      "cell_type": "code",
      "source": [
        "x_star1 = x[obs_id]\n",
        "x_star1"
      ],
      "metadata": {
        "colab": {
          "base_uri": "https://localhost:8080/"
        },
        "id": "KTNon6vMmK0u",
        "outputId": "17b0951a-59fe-4e68-d669-ec96982e8a2d"
      },
      "execution_count": null,
      "outputs": [
        {
          "output_type": "execute_result",
          "data": {
            "text/plain": [
              "array([ 5.48872283,  5.82436808,  5.072406  ,  3.55431834,  8.57755903,\n",
              "        8.78998033,  2.43211183, -1.76474929,  3.55431834,  8.57755903,\n",
              "       10.94214485,  8.80829036,  4.47753664,  3.54047913,  5.072406  ,\n",
              "        2.04660955,  8.57755903,  8.57755903,  5.82436808,  5.072406  ])"
            ]
          },
          "metadata": {},
          "execution_count": 30
        }
      ]
    },
    {
      "cell_type": "code",
      "source": [
        "w_star1 = w[obs_id]\n",
        "w_star1"
      ],
      "metadata": {
        "colab": {
          "base_uri": "https://localhost:8080/"
        },
        "id": "I9UZ-qXdmVJd",
        "outputId": "934ad9a7-91c2-4b59-8c54-cb549f172544"
      },
      "execution_count": null,
      "outputs": [
        {
          "output_type": "execute_result",
          "data": {
            "text/plain": [
              "array([ 6.71418125, -0.05905122,  2.89315956,  1.9965966 , 12.39287802,\n",
              "       11.09626948,  5.34030994, -4.77853031,  1.9965966 , 12.39287802,\n",
              "       13.18925613,  7.49480114,  2.98500801,  7.37127129,  2.89315956,\n",
              "        2.56161307, 12.39287802, 12.39287802, -0.05905122,  2.89315956])"
            ]
          },
          "metadata": {},
          "execution_count": 31
        }
      ]
    },
    {
      "cell_type": "code",
      "source": [
        "corr(x_star1, w_star1)"
      ],
      "metadata": {
        "colab": {
          "base_uri": "https://localhost:8080/"
        },
        "id": "CQkhbKqFmaLn",
        "outputId": "26fb2d00-4918-48d2-9885-aba403e20443"
      },
      "execution_count": null,
      "outputs": [
        {
          "output_type": "execute_result",
          "data": {
            "text/plain": [
              "0.8248153261423454"
            ]
          },
          "metadata": {},
          "execution_count": 32
        }
      ]
    },
    {
      "cell_type": "code",
      "source": [
        "boot_xw = IIDBootstrap(x, w, seed=111111)\n",
        "boot_xw.conf_int(corr, method='basic', reps=10000, size=0.95)"
      ],
      "metadata": {
        "colab": {
          "base_uri": "https://localhost:8080/"
        },
        "id": "-kIHTr3jmga0",
        "outputId": "da484593-8111-4bde-90dc-cc69a97af0e2"
      },
      "execution_count": null,
      "outputs": [
        {
          "output_type": "execute_result",
          "data": {
            "text/plain": [
              "array([[0.73375844],\n",
              "       [1.02066742]])"
            ]
          },
          "metadata": {},
          "execution_count": 34
        }
      ]
    },
    {
      "cell_type": "code",
      "source": [
        "4 - 3 == 1"
      ],
      "metadata": {
        "colab": {
          "base_uri": "https://localhost:8080/"
        },
        "id": "ATYMCnExm8Ug",
        "outputId": "a6dd0a80-809b-41ac-9464-0e294e6d59cd"
      },
      "execution_count": null,
      "outputs": [
        {
          "output_type": "execute_result",
          "data": {
            "text/plain": [
              "True"
            ]
          },
          "metadata": {},
          "execution_count": 35
        }
      ]
    },
    {
      "cell_type": "code",
      "source": [
        "0.4 - 0.3 == 0.1"
      ],
      "metadata": {
        "colab": {
          "base_uri": "https://localhost:8080/"
        },
        "id": "lpKjRdyAnPEm",
        "outputId": "93e21762-4342-4c1d-82cf-78311fda5e50"
      },
      "execution_count": null,
      "outputs": [
        {
          "output_type": "execute_result",
          "data": {
            "text/plain": [
              "False"
            ]
          },
          "metadata": {},
          "execution_count": 36
        }
      ]
    },
    {
      "cell_type": "code",
      "source": [
        "y = rng.normal(loc=9, scale=3, size=25)"
      ],
      "metadata": {
        "id": "R3VBUDFgnRGI"
      },
      "execution_count": null,
      "outputs": []
    },
    {
      "cell_type": "code",
      "source": [
        "y"
      ],
      "metadata": {
        "colab": {
          "base_uri": "https://localhost:8080/"
        },
        "id": "tJUcFAhgnufc",
        "outputId": "469aaea3-c7e4-4b9b-9553-f8f47d7c7adf"
      },
      "execution_count": null,
      "outputs": [
        {
          "output_type": "execute_result",
          "data": {
            "text/plain": [
              "array([12.14268681, 12.17501015,  6.73312431, 11.99569635,  5.82977991,\n",
              "        0.8671864 ,  7.99425006,  8.21486399,  9.23877598,  8.63018244,\n",
              "        7.6098239 ,  8.11828919,  6.51132991, 13.55765964,  8.7764837 ,\n",
              "        7.66390195, 10.48363553, 12.94911141,  6.01879175, 11.17176947,\n",
              "       12.4419654 ,  8.79761341,  5.98529289,  6.86739964,  4.7187951 ])"
            ]
          },
          "metadata": {},
          "execution_count": 43
        }
      ]
    },
    {
      "cell_type": "code",
      "source": [
        "def mean_diff(x, y):\n",
        "  return np.mean(y) - np.mean(x)"
      ],
      "metadata": {
        "id": "r4ouZx0vnvEi"
      },
      "execution_count": null,
      "outputs": []
    },
    {
      "cell_type": "code",
      "source": [
        "boot_xy = IndependentSamplesBootstrap(x, y, seed=111111)\n",
        "boot_xy.conf_int(mean_diff, reps=10000, size=0.95, method='basic')"
      ],
      "metadata": {
        "colab": {
          "base_uri": "https://localhost:8080/"
        },
        "id": "jdUln7_XpgSr",
        "outputId": "aefbeed0-89a6-4bf3-9834-71ce6c9180f2"
      },
      "execution_count": null,
      "outputs": [
        {
          "output_type": "execute_result",
          "data": {
            "text/plain": [
              "array([[1.53302614],\n",
              "       [5.35966773]])"
            ]
          },
          "metadata": {},
          "execution_count": 45
        }
      ]
    },
    {
      "cell_type": "code",
      "source": [],
      "metadata": {
        "id": "LPvXCmHmplo-"
      },
      "execution_count": null,
      "outputs": []
    }
  ]
}